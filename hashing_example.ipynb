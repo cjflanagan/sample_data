{
  "nbformat": 4,
  "nbformat_minor": 0,
  "metadata": {
    "colab": {
      "name": "hashing_example.ipynb",
      "provenance": [],
      "collapsed_sections": [],
      "include_colab_link": true
    },
    "kernelspec": {
      "name": "python3",
      "display_name": "Python 3"
    }
  },
  "cells": [
    {
      "cell_type": "markdown",
      "metadata": {
        "id": "view-in-github",
        "colab_type": "text"
      },
      "source": [
        "<a href=\"https://colab.research.google.com/github/cjflanagan/sample_data/blob/master/hashing_example.ipynb\" target=\"_parent\"><img src=\"https://colab.research.google.com/assets/colab-badge.svg\" alt=\"Open In Colab\"/></a>"
      ]
    },
    {
      "cell_type": "code",
      "metadata": {
        "id": "oSF25z8E7LJs",
        "colab_type": "code",
        "colab": {}
      },
      "source": [
        "import pandas as pd"
      ],
      "execution_count": 0,
      "outputs": []
    },
    {
      "cell_type": "code",
      "metadata": {
        "id": "e2xxYOTQ7NPB",
        "colab_type": "code",
        "colab": {}
      },
      "source": [
        "fake_customer_data = pd.read_csv('https://raw.githubusercontent.com/cjflanagan/sample_data/master/fake_customer_data.csv')"
      ],
      "execution_count": 0,
      "outputs": []
    },
    {
      "cell_type": "code",
      "metadata": {
        "id": "AeCb0Vbn7NTi",
        "colab_type": "code",
        "colab": {
          "base_uri": "https://localhost:8080/",
          "height": 204
        },
        "outputId": "b3328c38-c1b9-4c69-e8c7-8932ab1b3659"
      },
      "source": [
        "fake_customer_data.head()"
      ],
      "execution_count": 46,
      "outputs": [
        {
          "output_type": "execute_result",
          "data": {
            "text/html": [
              "<div>\n",
              "<style scoped>\n",
              "    .dataframe tbody tr th:only-of-type {\n",
              "        vertical-align: middle;\n",
              "    }\n",
              "\n",
              "    .dataframe tbody tr th {\n",
              "        vertical-align: top;\n",
              "    }\n",
              "\n",
              "    .dataframe thead th {\n",
              "        text-align: right;\n",
              "    }\n",
              "</style>\n",
              "<table border=\"1\" class=\"dataframe\">\n",
              "  <thead>\n",
              "    <tr style=\"text-align: right;\">\n",
              "      <th></th>\n",
              "      <th>CustomerName</th>\n",
              "      <th>ContactName</th>\n",
              "      <th>Address</th>\n",
              "      <th>City</th>\n",
              "      <th>PostalCode</th>\n",
              "      <th>Country</th>\n",
              "    </tr>\n",
              "  </thead>\n",
              "  <tbody>\n",
              "    <tr>\n",
              "      <th>0</th>\n",
              "      <td>Alfreds Futterkiste</td>\n",
              "      <td>Maria Anders</td>\n",
              "      <td>Obere Str. 57</td>\n",
              "      <td>Berlin</td>\n",
              "      <td>12209</td>\n",
              "      <td>Germany</td>\n",
              "    </tr>\n",
              "    <tr>\n",
              "      <th>1</th>\n",
              "      <td>Ana Trujillo Emparedados y helados</td>\n",
              "      <td>Ana Trujillo</td>\n",
              "      <td>Avda. de la Constitución 2222</td>\n",
              "      <td>México D.F.</td>\n",
              "      <td>5021</td>\n",
              "      <td>Mexico</td>\n",
              "    </tr>\n",
              "    <tr>\n",
              "      <th>2</th>\n",
              "      <td>Antonio Moreno Taquería</td>\n",
              "      <td>Antonio Moreno</td>\n",
              "      <td>Mataderos 2312</td>\n",
              "      <td>México D.F.</td>\n",
              "      <td>5023</td>\n",
              "      <td>Mexico</td>\n",
              "    </tr>\n",
              "    <tr>\n",
              "      <th>3</th>\n",
              "      <td>Around the Horn</td>\n",
              "      <td>Thomas Hardy</td>\n",
              "      <td>120 Hanover Sq.</td>\n",
              "      <td>London</td>\n",
              "      <td>WA1 1DP</td>\n",
              "      <td>UK</td>\n",
              "    </tr>\n",
              "    <tr>\n",
              "      <th>4</th>\n",
              "      <td>Berglunds snabbköp</td>\n",
              "      <td>Christina Berglund</td>\n",
              "      <td>Berguvsvägen 8</td>\n",
              "      <td>Luleå</td>\n",
              "      <td>S-958 22</td>\n",
              "      <td>Sweden</td>\n",
              "    </tr>\n",
              "  </tbody>\n",
              "</table>\n",
              "</div>"
            ],
            "text/plain": [
              "                         CustomerName         ContactName  ... PostalCode  Country\n",
              "0                 Alfreds Futterkiste        Maria Anders  ...      12209  Germany\n",
              "1  Ana Trujillo Emparedados y helados        Ana Trujillo  ...       5021   Mexico\n",
              "2             Antonio Moreno Taquería      Antonio Moreno  ...       5023   Mexico\n",
              "3                     Around the Horn        Thomas Hardy  ...    WA1 1DP       UK\n",
              "4                  Berglunds snabbköp  Christina Berglund  ...   S-958 22   Sweden\n",
              "\n",
              "[5 rows x 6 columns]"
            ]
          },
          "metadata": {
            "tags": []
          },
          "execution_count": 46
        }
      ]
    },
    {
      "cell_type": "code",
      "metadata": {
        "id": "DbVrWWynHX5J",
        "colab_type": "code",
        "colab": {
          "base_uri": "https://localhost:8080/",
          "height": 34
        },
        "outputId": "5324c37e-3a1c-4550-dc1f-3d4664a42e0d"
      },
      "source": [
        "hash('cathalf@stanford.edu')"
      ],
      "execution_count": 84,
      "outputs": [
        {
          "output_type": "execute_result",
          "data": {
            "text/plain": [
              "7187812429970606314"
            ]
          },
          "metadata": {
            "tags": []
          },
          "execution_count": 84
        }
      ]
    },
    {
      "cell_type": "code",
      "metadata": {
        "id": "YhMRnAsp_Rep",
        "colab_type": "code",
        "colab": {
          "base_uri": "https://localhost:8080/",
          "height": 425
        },
        "outputId": "42e5c23b-22f9-4269-f85e-eb18aebf4b7b"
      },
      "source": [
        "fake_customer_data.CustomerName.apply(hash)"
      ],
      "execution_count": 52,
      "outputs": [
        {
          "output_type": "execute_result",
          "data": {
            "text/plain": [
              "0    -2233713389473403279\n",
              "1     7912633391080260309\n",
              "2     8816844986705580816\n",
              "3      497700275669085698\n",
              "4    -7225001119313345446\n",
              "5     6401787857195469718\n",
              "6    -8386952703023743962\n",
              "7     1360039660956583587\n",
              "8     -885005285799633424\n",
              "9     7659111501509867860\n",
              "10   -4201315301074246222\n",
              "11    6214999702256784573\n",
              "12   -5810393427175848941\n",
              "13    4022580735871860472\n",
              "14    -285117188065772166\n",
              "15    7573224921887805363\n",
              "16   -1243315367728202385\n",
              "17   -7626383373322868144\n",
              "18   -2619143152330546375\n",
              "19    2378637776718174647\n",
              "20   -2970912343193626277\n",
              "21    1991919801257771493\n",
              "22   -1744235342031050580\n",
              "Name: CustomerName, dtype: int64"
            ]
          },
          "metadata": {
            "tags": []
          },
          "execution_count": 52
        }
      ]
    },
    {
      "cell_type": "code",
      "metadata": {
        "id": "38_5wLLS9mp8",
        "colab_type": "code",
        "colab": {}
      },
      "source": [
        "import hashlib"
      ],
      "execution_count": 0,
      "outputs": []
    },
    {
      "cell_type": "code",
      "metadata": {
        "id": "vbqH2nmj9z7K",
        "colab_type": "code",
        "colab": {
          "base_uri": "https://localhost:8080/",
          "height": 34
        },
        "outputId": "471b033d-5b6a-4337-a4db-94055b7ad387"
      },
      "source": [
        "hashlib.sha224(\"Nobody insppaects the spammish repetition\".encode()).hexdigest()"
      ],
      "execution_count": 63,
      "outputs": [
        {
          "output_type": "execute_result",
          "data": {
            "text/plain": [
              "'b4a7862ad72735ca4a4fb9b7efd3297cee4431c7367f8b8407253df0'"
            ]
          },
          "metadata": {
            "tags": []
          },
          "execution_count": 63
        }
      ]
    },
    {
      "cell_type": "code",
      "metadata": {
        "id": "HH_3er3UHeHt",
        "colab_type": "code",
        "colab": {}
      },
      "source": [
        "def hash_string(string_to_hash):\n",
        "  return hashlib.sha224(string_to_hash.encode()).hexdigest()"
      ],
      "execution_count": 0,
      "outputs": []
    },
    {
      "cell_type": "code",
      "metadata": {
        "id": "NpQazJ84-Wgt",
        "colab_type": "code",
        "colab": {
          "base_uri": "https://localhost:8080/",
          "height": 204
        },
        "outputId": "1d769deb-e594-4d0e-87a0-7f26ecded8a4"
      },
      "source": [
        "fake_customer_data['hashed_customer_name'] = fake_customer_data.CustomerName.apply(hash_string)\n",
        "fake_customer_data.head()"
      ],
      "execution_count": 95,
      "outputs": [
        {
          "output_type": "execute_result",
          "data": {
            "text/html": [
              "<div>\n",
              "<style scoped>\n",
              "    .dataframe tbody tr th:only-of-type {\n",
              "        vertical-align: middle;\n",
              "    }\n",
              "\n",
              "    .dataframe tbody tr th {\n",
              "        vertical-align: top;\n",
              "    }\n",
              "\n",
              "    .dataframe thead th {\n",
              "        text-align: right;\n",
              "    }\n",
              "</style>\n",
              "<table border=\"1\" class=\"dataframe\">\n",
              "  <thead>\n",
              "    <tr style=\"text-align: right;\">\n",
              "      <th></th>\n",
              "      <th>CustomerName</th>\n",
              "      <th>ContactName</th>\n",
              "      <th>Address</th>\n",
              "      <th>City</th>\n",
              "      <th>PostalCode</th>\n",
              "      <th>Country</th>\n",
              "      <th>hashed_customer_name</th>\n",
              "    </tr>\n",
              "  </thead>\n",
              "  <tbody>\n",
              "    <tr>\n",
              "      <th>0</th>\n",
              "      <td>Alfreds Futterkiste</td>\n",
              "      <td>Maria Anders</td>\n",
              "      <td>Obere Str. 57</td>\n",
              "      <td>Berlin</td>\n",
              "      <td>12209</td>\n",
              "      <td>Germany</td>\n",
              "      <td>42baeec2045ef6fe91744bef955c17530bcdc9544cac45...</td>\n",
              "    </tr>\n",
              "    <tr>\n",
              "      <th>1</th>\n",
              "      <td>Ana Trujillo Emparedados y helados</td>\n",
              "      <td>Ana Trujillo</td>\n",
              "      <td>Avda. de la Constitución 2222</td>\n",
              "      <td>México D.F.</td>\n",
              "      <td>5021</td>\n",
              "      <td>Mexico</td>\n",
              "      <td>52387a329fb1cab5ce7c6bd7eb13ecbb22bd906ab34755...</td>\n",
              "    </tr>\n",
              "    <tr>\n",
              "      <th>2</th>\n",
              "      <td>Antonio Moreno Taquería</td>\n",
              "      <td>Antonio Moreno</td>\n",
              "      <td>Mataderos 2312</td>\n",
              "      <td>México D.F.</td>\n",
              "      <td>5023</td>\n",
              "      <td>Mexico</td>\n",
              "      <td>226e0edff61be344dfa324b344ebdc9f6cda2851d28a9a...</td>\n",
              "    </tr>\n",
              "    <tr>\n",
              "      <th>3</th>\n",
              "      <td>Around the Horn</td>\n",
              "      <td>Thomas Hardy</td>\n",
              "      <td>120 Hanover Sq.</td>\n",
              "      <td>London</td>\n",
              "      <td>WA1 1DP</td>\n",
              "      <td>UK</td>\n",
              "      <td>22512d6469b9d200a373913cbe5c2b12788946772f73cc...</td>\n",
              "    </tr>\n",
              "    <tr>\n",
              "      <th>4</th>\n",
              "      <td>Berglunds snabbköp</td>\n",
              "      <td>Christina Berglund</td>\n",
              "      <td>Berguvsvägen 8</td>\n",
              "      <td>Luleå</td>\n",
              "      <td>S-958 22</td>\n",
              "      <td>Sweden</td>\n",
              "      <td>7560a8dc50cf3e77c646cb6227b53a785354149dd7f403...</td>\n",
              "    </tr>\n",
              "  </tbody>\n",
              "</table>\n",
              "</div>"
            ],
            "text/plain": [
              "                         CustomerName  ...                               hashed_customer_name\n",
              "0                 Alfreds Futterkiste  ...  42baeec2045ef6fe91744bef955c17530bcdc9544cac45...\n",
              "1  Ana Trujillo Emparedados y helados  ...  52387a329fb1cab5ce7c6bd7eb13ecbb22bd906ab34755...\n",
              "2             Antonio Moreno Taquería  ...  226e0edff61be344dfa324b344ebdc9f6cda2851d28a9a...\n",
              "3                     Around the Horn  ...  22512d6469b9d200a373913cbe5c2b12788946772f73cc...\n",
              "4                  Berglunds snabbköp  ...  7560a8dc50cf3e77c646cb6227b53a785354149dd7f403...\n",
              "\n",
              "[5 rows x 7 columns]"
            ]
          },
          "metadata": {
            "tags": []
          },
          "execution_count": 95
        }
      ]
    },
    {
      "cell_type": "code",
      "metadata": {
        "id": "MUv7yxqxAEf2",
        "colab_type": "code",
        "colab": {
          "base_uri": "https://localhost:8080/",
          "height": 408
        },
        "outputId": "cc86f292-9bdf-410d-b69c-50ac8c7ad898"
      },
      "source": [
        "hash_table = dict(zip(fake_customer_data.hashed_customer_name, fake_customer_data.CustomerName))\n",
        "hash_table"
      ],
      "execution_count": 94,
      "outputs": [
        {
          "output_type": "execute_result",
          "data": {
            "text/plain": [
              "{'1038b7299d89d4f63533f930e8b834b86da77cbacf7b15bc05d0b091': 'Comércio Mineiro',\n",
              " '22512d6469b9d200a373913cbe5c2b12788946772f73cc46a0898f73': 'Around the Horn',\n",
              " '226e0edff61be344dfa324b344ebdc9f6cda2851d28a9acbd7bfe9ca': 'Antonio Moreno Taquería',\n",
              " '30a3725581ed79126f272b8aeb2690a3adc6b1170e993670bb46b0ff': \"B's Beverages\",\n",
              " '42baeec2045ef6fe91744bef955c17530bcdc9544cac457e4a642f8c': 'Alfreds Futterkiste',\n",
              " '47f0e3cf953d7fe1e99109d2a25bdebd75814918246266d7f9625017': 'Familia Arquibaldo',\n",
              " '52387a329fb1cab5ce7c6bd7eb13ecbb22bd906ab34755758baaab34': 'Ana Trujillo Emparedados y helados',\n",
              " '5b73e4afc3cff840d9968732ed592f63e92e1ff764dd6925e00c4f36': 'Bólido Comidas preparadas',\n",
              " '6cbdae04f2986f0effe345e30e45bd5f9644dc596d2aacb5c4f43730': 'Chop-suey Chinese',\n",
              " '6d85c448b4d80d01fb19c3d5929bc10ec8e8c6457b3e4a8d8246600a': 'Consolidated Holdings',\n",
              " '7560a8dc50cf3e77c646cb6227b53a785354149dd7f403f9d8ba1eb5': 'Berglunds snabbköp',\n",
              " '7f50d999d2cd97f299b20023acfff4dd53574a2d13b4b49ec5e3b343': 'Eastern Connection',\n",
              " 'a138595e857da0a7e858382f8ba43e457b675776194b7b981f859e25': 'Folies gourmandes',\n",
              " 'ab54796887bf72bd226d429e61561a5e4c2fc542003d34c975746328': \"Bon app'\",\n",
              " 'c42b2691368f28028f45f9e88b9f2b1513ef4f43a39c045d20eae47d': 'Bottom-Dollar Marketse',\n",
              " 'c865a50f6edffeb765054288b22f34cbcaf31474c5fed569ea67d2a5': 'Blauer See Delikatessen',\n",
              " 'd20060389ea3ed1e6d56b4802f9cad83974f068603fd09d1b35d89df': 'Centro comercial Moctezuma',\n",
              " 'd9a31760e29118687d0ad208bfb35c922d16e5f1d294b48ffb75a12d': 'Blondel père et fils',\n",
              " 'dbb4cc0216739526bc23167d363e0019bea65a87659b8722edbc19fe': 'FISSA Fabrica Inter. Salchichas S.A.',\n",
              " 'dd84ffd231fc740591ae6fdda3717ba235093940d03bd77fbc17b13c': 'Cactus Comidas para llevar',\n",
              " 'e8a69fa70797fb97223d92aa5bc3d729422d9c428944035603b758dc': 'Drachenblut Delikatessend',\n",
              " 'f7b86cb31fc86fe77406c3ac5f0ae4836fb6d6bc8f4ac0ab03068e0c': 'Du monde entier',\n",
              " 'f8e8e0fb6e1f989bd961a171860044f72a24e8fe16d3e9b3b07f5ca6': 'Ernst Handel'}"
            ]
          },
          "metadata": {
            "tags": []
          },
          "execution_count": 94
        }
      ]
    },
    {
      "cell_type": "code",
      "metadata": {
        "id": "gAjjI0E4Bo9p",
        "colab_type": "code",
        "colab": {
          "base_uri": "https://localhost:8080/",
          "height": 204
        },
        "outputId": "26b3ce76-a0f5-4e0d-9b8f-6a5f832783c4"
      },
      "source": [
        "fake_customer_data.head()"
      ],
      "execution_count": 92,
      "outputs": [
        {
          "output_type": "execute_result",
          "data": {
            "text/html": [
              "<div>\n",
              "<style scoped>\n",
              "    .dataframe tbody tr th:only-of-type {\n",
              "        vertical-align: middle;\n",
              "    }\n",
              "\n",
              "    .dataframe tbody tr th {\n",
              "        vertical-align: top;\n",
              "    }\n",
              "\n",
              "    .dataframe thead th {\n",
              "        text-align: right;\n",
              "    }\n",
              "</style>\n",
              "<table border=\"1\" class=\"dataframe\">\n",
              "  <thead>\n",
              "    <tr style=\"text-align: right;\">\n",
              "      <th></th>\n",
              "      <th>CustomerName</th>\n",
              "      <th>ContactName</th>\n",
              "      <th>Address</th>\n",
              "      <th>City</th>\n",
              "      <th>PostalCode</th>\n",
              "      <th>Country</th>\n",
              "      <th>hashed_customer_name</th>\n",
              "    </tr>\n",
              "  </thead>\n",
              "  <tbody>\n",
              "    <tr>\n",
              "      <th>0</th>\n",
              "      <td>Alfreds Futterkiste</td>\n",
              "      <td>Maria Anders</td>\n",
              "      <td>Obere Str. 57</td>\n",
              "      <td>Berlin</td>\n",
              "      <td>12209</td>\n",
              "      <td>Germany</td>\n",
              "      <td>42baeec2045ef6fe91744bef955c17530bcdc9544cac45...</td>\n",
              "    </tr>\n",
              "    <tr>\n",
              "      <th>1</th>\n",
              "      <td>Ana Trujillo Emparedados y helados</td>\n",
              "      <td>Ana Trujillo</td>\n",
              "      <td>Avda. de la Constitución 2222</td>\n",
              "      <td>México D.F.</td>\n",
              "      <td>5021</td>\n",
              "      <td>Mexico</td>\n",
              "      <td>52387a329fb1cab5ce7c6bd7eb13ecbb22bd906ab34755...</td>\n",
              "    </tr>\n",
              "    <tr>\n",
              "      <th>2</th>\n",
              "      <td>Antonio Moreno Taquería</td>\n",
              "      <td>Antonio Moreno</td>\n",
              "      <td>Mataderos 2312</td>\n",
              "      <td>México D.F.</td>\n",
              "      <td>5023</td>\n",
              "      <td>Mexico</td>\n",
              "      <td>226e0edff61be344dfa324b344ebdc9f6cda2851d28a9a...</td>\n",
              "    </tr>\n",
              "    <tr>\n",
              "      <th>3</th>\n",
              "      <td>Around the Horn</td>\n",
              "      <td>Thomas Hardy</td>\n",
              "      <td>120 Hanover Sq.</td>\n",
              "      <td>London</td>\n",
              "      <td>WA1 1DP</td>\n",
              "      <td>UK</td>\n",
              "      <td>22512d6469b9d200a373913cbe5c2b12788946772f73cc...</td>\n",
              "    </tr>\n",
              "    <tr>\n",
              "      <th>4</th>\n",
              "      <td>Berglunds snabbköp</td>\n",
              "      <td>Christina Berglund</td>\n",
              "      <td>Berguvsvägen 8</td>\n",
              "      <td>Luleå</td>\n",
              "      <td>S-958 22</td>\n",
              "      <td>Sweden</td>\n",
              "      <td>7560a8dc50cf3e77c646cb6227b53a785354149dd7f403...</td>\n",
              "    </tr>\n",
              "  </tbody>\n",
              "</table>\n",
              "</div>"
            ],
            "text/plain": [
              "                         CustomerName  ...                               hashed_customer_name\n",
              "0                 Alfreds Futterkiste  ...  42baeec2045ef6fe91744bef955c17530bcdc9544cac45...\n",
              "1  Ana Trujillo Emparedados y helados  ...  52387a329fb1cab5ce7c6bd7eb13ecbb22bd906ab34755...\n",
              "2             Antonio Moreno Taquería  ...  226e0edff61be344dfa324b344ebdc9f6cda2851d28a9a...\n",
              "3                     Around the Horn  ...  22512d6469b9d200a373913cbe5c2b12788946772f73cc...\n",
              "4                  Berglunds snabbköp  ...  7560a8dc50cf3e77c646cb6227b53a785354149dd7f403...\n",
              "\n",
              "[5 rows x 7 columns]"
            ]
          },
          "metadata": {
            "tags": []
          },
          "execution_count": 92
        }
      ]
    },
    {
      "cell_type": "code",
      "metadata": {
        "id": "z3Xe_KkOAyWL",
        "colab_type": "code",
        "colab": {
          "base_uri": "https://localhost:8080/",
          "height": 34
        },
        "outputId": "60fc7e87-c0c1-41c6-d38e-02882215f908"
      },
      "source": [
        "hash_table['1038b7299d89d4f63533f930e8b834b86da77cbacf7b15bc05d0b091']"
      ],
      "execution_count": 93,
      "outputs": [
        {
          "output_type": "execute_result",
          "data": {
            "text/plain": [
              "'Comércio Mineiro'"
            ]
          },
          "metadata": {
            "tags": []
          },
          "execution_count": 93
        }
      ]
    }
  ]
}